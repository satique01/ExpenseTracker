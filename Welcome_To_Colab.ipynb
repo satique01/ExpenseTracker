{
  "cells": [
    {
      "cell_type": "markdown",
      "metadata": {
        "id": "view-in-github",
        "colab_type": "text"
      },
      "source": [
        "<a href=\"https://colab.research.google.com/github/satique01/ExpenseTracker/blob/main/Welcome_To_Colab.ipynb\" target=\"_parent\"><img src=\"https://colab.research.google.com/assets/colab-badge.svg\" alt=\"Open In Colab\"/></a>"
      ]
    },
    {
      "cell_type": "code",
      "source": [
        "import streamlit as st\n",
        "import pandas as pd\n",
        "import matplotlib.pyplot as plt\n",
        "from datetime import datetime\n",
        "\n",
        "# Load expenses from a CSV file (if it exists)\n",
        "@st.cache_data\n",
        "def load_expenses(file_path=\"expenses.csv\"):\n",
        "    try:\n",
        "        return pd.read_csv(file_path)\n",
        "    except FileNotFoundError:\n",
        "        return pd.DataFrame(columns=[\"Date\", \"Amount\", \"Category\", \"Description\"])\n",
        "\n",
        "# Save expenses to a CSV file\n",
        "def save_expenses(expenses, file_path=\"expenses.csv\"):\n",
        "    expenses.to_csv(file_path, index=False)\n",
        "\n",
        "# Function to add a new expense\n",
        "def add_expense(amount, category, description):\n",
        "    new_expense = pd.DataFrame({\n",
        "        \"Date\": [datetime.now().strftime(\"%Y-%m-%d\")],\n",
        "        \"Amount\": [amount],\n",
        "        \"Category\": [category],\n",
        "        \"Description\": [description]\n",
        "    })\n",
        "    st.session_state[\"expenses\"] = pd.concat([st.session_state[\"expenses\"], new_expense], ignore_index=True)\n",
        "    save_expenses(st.session_state[\"expenses\"])  # Save after each addition\n",
        "\n",
        "# Initialize expenses if not already in session state\n",
        "if \"expenses\" not in st.session_state:\n",
        "    st.session_state[\"expenses\"] = load_expenses()\n",
        "\n",
        "# App Title\n",
        "st.title(\"Enhanced Expense Tracker\")\n",
        "\n",
        "# Sidebar for Adding New Expenses\n",
        "st.sidebar.header(\"Add New Expense\")\n",
        "with st.sidebar.form(\"expense_form\"):\n",
        "    amount = st.number_input(\"Amount\", min_value=0.0, step=0.01)\n",
        "    category = st.selectbox(\"Category\", [\"Food\", \"Transport\", \"Entertainment\", \"Utilities\", \"Others\"])\n",
        "    description = st.text_input(\"Description (Optional)\")\n",
        "    submit_button = st.form_submit_button(\"Add Expense\")\n",
        "\n",
        "# Add new expense when form is submitted\n",
        "if submit_button:\n",
        "    if amount > 0:\n",
        "        add_expense(amount, category, description)\n",
        "        st.sidebar.success(f\"Expense added: ${amount} to {category}\")\n",
        "    else:\n",
        "        st.sidebar.error(\"Please enter a valid amount\")\n",
        "\n",
        "# Display all expenses\n",
        "st.subheader(\"All Expenses\")\n",
        "if not st.session_state[\"expenses\"].empty:\n",
        "    st.dataframe(st.session_state[\"expenses\"])\n",
        "else:\n",
        "    st.write(\"No expenses added yet.\")\n",
        "\n",
        "# Display total amount spent\n",
        "st.subheader(\"Total Amount Spent\")\n",
        "if not st.session_state[\"expenses\"].empty:\n",
        "    total_spent = st.session_state[\"expenses\"][\"Amount\"].sum()\n",
        "    st.write(f\"Total: ${total_spent:.2f}\")\n",
        "else:\n",
        "    st.write(\"No expenses to calculate.\")\n",
        "\n",
        "# Filter by category\n",
        "st.subheader(\"View Expenses by Category\")\n",
        "selected_category = st.selectbox(\"Select Category to View\", options=[\"All\"] + st.session_state[\"expenses\"][\"Category\"].unique().tolist())\n",
        "\n",
        "if selected_category != \"All\":\n",
        "    filtered_expenses = st.session_state[\"expenses\"][st.session_state[\"expenses\"][\"Category\"] == selected_category]\n",
        "else:\n",
        "    filtered_expenses = st.session_state[\"expenses\"]\n",
        "\n",
        "st.write(f\"Expenses in '{selected_category}' category:\")\n",
        "st.dataframe(filtered_expenses)\n",
        "\n",
        "# Plotting Expenses by Category\n",
        "st.subheader(\"Expense Distribution by Category\")\n",
        "if not st.session_state[\"expenses\"].empty:\n",
        "    category_totals = st.session_state[\"expenses\"].groupby(\"Category\")[\"Amount\"].sum()\n",
        "\n",
        "    fig, ax = plt.subplots()\n",
        "    category_totals.plot(kind=\"bar\", ax=ax, color=\"skyblue\")\n",
        "    ax.set_title(\"Expenses by Category\")\n",
        "    ax.set_ylabel(\"Amount ($)\")\n",
        "    st.pyplot(fig)\n",
        "else:\n",
        "    st.write(\"No expenses to plot.\")\n",
        "\n",
        "# Plotting Expenses Over Time\n",
        "st.subheader(\"Expenses Over Time\")\n",
        "if not st.session_state[\"expenses\"].empty:\n",
        "    # Ensure Date column is in datetime format\n",
        "    st.session_state[\"expenses\"][\"Date\"] = pd.to_datetime(st.session_state[\"expenses\"][\"Date\"])\n",
        "    daily_totals = st.session_state[\"expenses\"].groupby(\"Date\")[\"Amount\"].sum()\n",
        "\n",
        "    fig, ax = plt.subplots()\n",
        "    daily_totals.plot(kind=\"line\", ax=ax, marker=\"o\", color=\"orange\")\n",
        "    ax.set_title(\"Daily Expenses Over Time\")\n",
        "    ax.set_xlabel(\"Date\")\n",
        "    ax.set_ylabel(\"Amount ($)\")\n",
        "    st.pyplot(fig)\n",
        "else:\n",
        "    st.write(\"No expenses to plot.\")\n"
      ],
      "metadata": {
        "id": "N6ornstOxmWj",
        "outputId": "e49a65c1-c3ee-48b2-d96a-d3a83834cfec",
        "colab": {
          "base_uri": "https://localhost:8080/",
          "height": 383
        }
      },
      "execution_count": 1,
      "outputs": [
        {
          "output_type": "error",
          "ename": "ModuleNotFoundError",
          "evalue": "No module named 'streamlit'",
          "traceback": [
            "\u001b[0;31m---------------------------------------------------------------------------\u001b[0m",
            "\u001b[0;31mModuleNotFoundError\u001b[0m                       Traceback (most recent call last)",
            "\u001b[0;32m<ipython-input-1-f661aae4eba3>\u001b[0m in \u001b[0;36m<cell line: 1>\u001b[0;34m()\u001b[0m\n\u001b[0;32m----> 1\u001b[0;31m \u001b[0;32mimport\u001b[0m \u001b[0mstreamlit\u001b[0m \u001b[0;32mas\u001b[0m \u001b[0mst\u001b[0m\u001b[0;34m\u001b[0m\u001b[0;34m\u001b[0m\u001b[0m\n\u001b[0m\u001b[1;32m      2\u001b[0m \u001b[0;32mimport\u001b[0m \u001b[0mpandas\u001b[0m \u001b[0;32mas\u001b[0m \u001b[0mpd\u001b[0m\u001b[0;34m\u001b[0m\u001b[0;34m\u001b[0m\u001b[0m\n\u001b[1;32m      3\u001b[0m \u001b[0;32mimport\u001b[0m \u001b[0mmatplotlib\u001b[0m\u001b[0;34m.\u001b[0m\u001b[0mpyplot\u001b[0m \u001b[0;32mas\u001b[0m \u001b[0mplt\u001b[0m\u001b[0;34m\u001b[0m\u001b[0;34m\u001b[0m\u001b[0m\n\u001b[1;32m      4\u001b[0m \u001b[0;32mfrom\u001b[0m \u001b[0mdatetime\u001b[0m \u001b[0;32mimport\u001b[0m \u001b[0mdatetime\u001b[0m\u001b[0;34m\u001b[0m\u001b[0;34m\u001b[0m\u001b[0m\n\u001b[1;32m      5\u001b[0m \u001b[0;34m\u001b[0m\u001b[0m\n",
            "\u001b[0;31mModuleNotFoundError\u001b[0m: No module named 'streamlit'",
            "",
            "\u001b[0;31m---------------------------------------------------------------------------\u001b[0;32m\nNOTE: If your import is failing due to a missing package, you can\nmanually install dependencies using either !pip or !apt.\n\nTo view examples of installing some common dependencies, click the\n\"Open Examples\" button below.\n\u001b[0;31m---------------------------------------------------------------------------\u001b[0m\n"
          ],
          "errorDetails": {
            "actions": [
              {
                "action": "open_url",
                "actionText": "Open Examples",
                "url": "/notebooks/snippets/importing_libraries.ipynb"
              }
            ]
          }
        }
      ]
    }
  ],
  "metadata": {
    "colab": {
      "name": "Welcome To Colab",
      "provenance": [],
      "gpuType": "T4",
      "include_colab_link": true
    },
    "kernelspec": {
      "display_name": "Python 3",
      "name": "python3"
    },
    "accelerator": "GPU"
  },
  "nbformat": 4,
  "nbformat_minor": 0
}